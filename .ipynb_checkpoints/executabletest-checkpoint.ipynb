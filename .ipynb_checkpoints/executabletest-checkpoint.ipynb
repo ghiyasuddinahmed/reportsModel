{
 "cells": [
  {
   "cell_type": "code",
   "execution_count": 1,
   "metadata": {},
   "outputs": [],
   "source": [
    "import numpy as np\n",
    "import pandas as pd\n",
    "import os\n",
    "import sys\n",
    "import shutil\n",
    "import json\n",
    "import re\n",
    "from zipfile import ZipFile\n",
    "\n",
    "from sklearn.feature_extraction.text import CountVectorizer\n",
    "from sklearn.decomposition import PCA\n",
    "from sklearn.decomposition import TruncatedSVD"
   ]
  },
  {
   "cell_type": "code",
   "execution_count": 5,
   "metadata": {},
   "outputs": [],
   "source": [
    "\"\"\"\n",
    "def walkAndResolve(dir_path, output_path):\n",
    "    print(dir_path)\n",
    "    if os.path.exists(dir_path):\n",
    "        for root, dirs, files in os.walk(dir_path):\n",
    "            for file in files:\n",
    "                file_path = os.path.join(dir_path, file)\n",
    "                output_dir = os.path.join(output_path, os.path.splitext(file)[0])\n",
    "                with ZipFile(file_path, 'r') as zip_ref:\n",
    "                    zip_ref.extractall(output_dir)\n",
    "                    print(\"Unzipped successfully!\")\n",
    "\"\"\"\n"
   ]
  },
  {
   "cell_type": "code",
   "execution_count": 6,
   "metadata": {},
   "outputs": [],
   "source": [
    "\"\"\"def moveAnalysisFiles(dir_path):\n",
    "    defaultDir =  '/reports/report.json'\n",
    "    for reports in os.listdir(dir_path):\n",
    "        report_path = os.path.join(dir_path, reports)\n",
    "        for report in os.listdir(report_path):\n",
    "            report_sub = os.path.join(report_path, report)\n",
    "            if report == 'reports':\n",
    "                for root, dirs, files in os.walk(report_sub):\n",
    "                    for file in files:\n",
    "                        file_path = os.path.join(report_sub, file)\n",
    "                        if file == 'report.json':\n",
    "                            data = open(file_path, 'r')\n",
    "                            data_json = json.load(data)\n",
    "                            try:\n",
    "                                if (len(data_json['behavior']) > 3):\n",
    "                                    pattern = '\\\"behavior\\\": {[\\w\\d\\D]*\\\"processes\\\"'\n",
    "                                    # match this pattern\n",
    "                                    # match = re.search(pattern, data_json['behavior'][x][])\n",
    "                                else:\n",
    "                                    pattern = '\\\"behavior\\\": {[\\w\\d\\D]*\\\"apistats\\\"'\n",
    "                                    # match this pattern\n",
    "                                    # match = re.search(pattern, data_json['behavior'][])\n",
    "                                for x in data_json['behavior']:\n",
    "                                    print(x)\n",
    "                            except KeyError:\n",
    "                                print('No Behavior')\n",
    "                                    # if x == 'generic':\n",
    "                                    # for idx, y in enumerate(data_json['behavior'][x]):\n",
    "                                    # print(y)\n",
    "\n",
    "\n",
    "# if len(sys.argv) < 2:\n",
    "# \tprint(\"Provide a dir path and output dir to resolve zip files\")\n",
    "# \texit(0)\n",
    "\n",
    "\"\"\"\n"
   ]
  },
  {
   "cell_type": "code",
   "execution_count": 9,
   "metadata": {},
   "outputs": [],
   "source": [
    "# dir_path = sys.argv[1]\n",
    "# output_path = sys.argv[2]\n",
    "\n",
    "#walkAndResolve(dir_path, output_path)\n",
    "\n",
    "#dir_path = r'C:\\Users\\Bashir\\Downloads\\reportTest\\reports_unzipped'\n",
    "\n",
    "#moveAnalysisFiles(dir_path)"
   ]
  },
  {
   "cell_type": "code",
   "execution_count": 33,
   "metadata": {},
   "outputs": [],
   "source": [
    "text=[]\n",
    "\n",
    "def text_extraction(file_path):\n",
    "    data = open(file_path, 'r')\n",
    "    content=data.read()\n",
    "    print(content)\n",
    "    content.replace(\",\",\" \")\n",
    "    content.replace('\"',\" \")\n",
    "    text.append(content)\n",
    "    "
   ]
  },
  {
   "cell_type": "code",
   "execution_count": 3,
   "metadata": {},
   "outputs": [],
   "source": [
    "def feature_extraction():\n",
    "    vectorizer=CountVectorizer(stop_words='english', max_features=1000)\n",
    "    dtm=vectorizer.fit_transform(text)\n",
    "    df=pd.DataFrame(dtm.toarray(),columns=vectorizer.get_feature_names())\n",
    "    df.to_csv(r'malwarefeatures.csv')"
   ]
  },
  {
   "cell_type": "code",
   "execution_count": 22,
   "metadata": {},
   "outputs": [],
   "source": [
    "\n",
    "\n",
    "def moveAnalysisFiles(dir_path):\n",
    "    defaultDir =  '/reports/report.json'\n",
    "    for reports in os.listdir(dir_path):\n",
    "        report_path = os.path.join(dir_path, reports)\n",
    "        for report in os.listdir(report_path):\n",
    "            report_sub = os.path.join(report_path, report)\n",
    "            if report == 'reports':\n",
    "                for root, dirs, files in os.walk(report_sub):\n",
    "                    for file in files:\n",
    "                        file_path = os.path.join(report_sub, file)\n",
    "                        if file == 'report.json':\n",
    "                            text_extraction(file_path)\n",
    "                            \n"
   ]
  },
  {
   "cell_type": "code",
   "execution_count": 23,
   "metadata": {},
   "outputs": [
    {
     "name": "stderr",
     "output_type": "stream",
     "text": [
      "IOPub data rate exceeded.\n",
      "The notebook server will temporarily stop sending output\n",
      "to the client in order to avoid crashing it.\n",
      "To change this limit, set the config variable\n",
      "`--NotebookApp.iopub_data_rate_limit`.\n",
      "\n",
      "Current values:\n",
      "NotebookApp.iopub_data_rate_limit=1000000.0 (bytes/sec)\n",
      "NotebookApp.rate_limit_window=3.0 (secs)\n",
      "\n"
     ]
    }
   ],
   "source": [
    "dir_path = r'C:\\Users\\Bashir\\Downloads\\reportTest\\reports_unzipped'\n",
    "\n",
    "moveAnalysisFiles(dir_path)\n",
    "feature_extraction()"
   ]
  },
  {
   "cell_type": "code",
   "execution_count": 7,
   "metadata": {},
   "outputs": [
    {
     "data": {
      "text/plain": [
       "(194, 1001)"
      ]
     },
     "execution_count": 7,
     "metadata": {},
     "output_type": "execute_result"
    }
   ],
   "source": [
    "df=pd.read_csv(r'malwarefeatures.csv')\n",
    "\n",
    "df.shape\n",
    "\n",
    "\n",
    "\n"
   ]
  },
  {
   "cell_type": "code",
   "execution_count": 4,
   "metadata": {},
   "outputs": [],
   "source": [
    "text=[]\n",
    "df1=pd.read_json(r'malwares.json',lines=True)\n",
    "for lines in df1['malware_behavior']:\n",
    "    lines.replace(\",\",\" \")\n",
    "    lines.replace('\"',\" \")\n",
    "    text.append(lines)\n"
   ]
  },
  {
   "cell_type": "code",
   "execution_count": 6,
   "metadata": {
    "scrolled": true
   },
   "outputs": [],
   "source": [
    "feature_extraction()"
   ]
  },
  {
   "cell_type": "code",
   "execution_count": 23,
   "metadata": {},
   "outputs": [
    {
     "data": {
      "text/plain": [
       "7855.137968552928"
      ]
     },
     "execution_count": 23,
     "metadata": {},
     "output_type": "execute_result"
    }
   ],
   "source": [
    "df_red=df[:150]\n",
    "narray=df.to_numpy()\n",
    "mean = np.mean(narray,axis=0)\n",
    "std_dev=np.std(narray,axis=0)\n",
    "std_sum=np.sum(std_dev)\n",
    "pos_thres=stdZ_sum*2\n",
    "neg_thres=stdZ_sum*-2"
   ]
  }
 ],
 "metadata": {
  "kernelspec": {
   "display_name": "Python 3",
   "language": "python",
   "name": "python3"
  },
  "language_info": {
   "codemirror_mode": {
    "name": "ipython",
    "version": 3
   },
   "file_extension": ".py",
   "mimetype": "text/x-python",
   "name": "python",
   "nbconvert_exporter": "python",
   "pygments_lexer": "ipython3",
   "version": "3.8.5"
  }
 },
 "nbformat": 4,
 "nbformat_minor": 4
}
